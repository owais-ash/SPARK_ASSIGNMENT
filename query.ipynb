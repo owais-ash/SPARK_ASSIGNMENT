{
 "cells": [
  {
   "cell_type": "code",
   "execution_count": 1,
   "metadata": {},
   "outputs": [
    {
     "name": "stderr",
     "output_type": "stream",
     "text": [
      "24/04/10 15:30:39 WARN Utils: Your hostname, Mds-MacBook-Air.local resolves to a loopback address: 127.0.0.1; using 172.29.171.15 instead (on interface en0)\n",
      "24/04/10 15:30:39 WARN Utils: Set SPARK_LOCAL_IP if you need to bind to another address\n",
      "Setting default log level to \"WARN\".\n",
      "To adjust logging level use sc.setLogLevel(newLevel). For SparkR, use setLogLevel(newLevel).\n",
      "24/04/10 15:30:40 WARN NativeCodeLoader: Unable to load native-hadoop library for your platform... using builtin-java classes where applicable\n",
      "24/04/10 15:30:40 WARN Utils: Service 'SparkUI' could not bind on port 4040. Attempting port 4041.\n",
      "24/04/10 15:30:40 WARN Utils: Service 'SparkUI' could not bind on port 4041. Attempting port 4042.\n"
     ]
    }
   ],
   "source": [
    "import pyspark\n",
    "from pyspark.sql import SparkSession\n",
    "\n",
    "spark = SparkSession.builder.master(\"local[*]\").getOrCreate()"
   ]
  },
  {
   "cell_type": "code",
   "execution_count": 2,
   "metadata": {},
   "outputs": [],
   "source": [
    "from flask import Flask, jsonify\n",
    "app = Flask(__name__)"
   ]
  },
  {
   "cell_type": "code",
   "execution_count": 4,
   "metadata": {},
   "outputs": [],
   "source": [
    "covidDF = spark.read.format(\"csv\").option(\"header\", \"true\").option(\"inferSchema\", \"true\").load(\"data.csv\")"
   ]
  },
  {
   "cell_type": "code",
   "execution_count": 5,
   "metadata": {},
   "outputs": [
    {
     "name": "stdout",
     "output_type": "stream",
     "text": [
      "+-----------+---------+-------+---------+------------+--------------+\n",
      "|    Country|    Cases| Deaths|Recovered|Active_Cases|Critical_Cases|\n",
      "+-----------+---------+-------+---------+------------+--------------+\n",
      "|      India| 45034136| 533547|        0|    44500589|             0|\n",
      "|        USA|111765841|1218840|109701168|      845833|          1080|\n",
      "|      China|   503302|   5272|   379053|      118977|             0|\n",
      "|     Russia| 24082671| 402612| 23500207|      179852|             0|\n",
      "|     Brazil| 38694221| 710966| 36249161|     1734094|             0|\n",
      "|     France| 40138560| 167642| 39970918|           0|             0|\n",
      "|    Germany| 38827040| 182917| 38240600|      403523|             0|\n",
      "|         UK| 24910387| 232112| 24676614|        1661|             0|\n",
      "|      Italy| 26722745| 196466| 26357303|      168976|            25|\n",
      "|      Spain| 13914811| 121760| 13762417|       30634|           231|\n",
      "|  Argentina| 10094643| 130733|  9963910|           0|             0|\n",
      "|  Australia| 11845265|  24358| 11811795|        9112|             9|\n",
      "|      Japan| 33803572|  74694|        0|    33728878|             0|\n",
      "|   S. Korea| 34571873|  35934| 34535939|           0|             0|\n",
      "|     Mexico|  7702809| 334958|  6899865|      467986|             0|\n",
      "|Netherlands|  8635591|  22992|  8612069|         530|             0|\n",
      "|Switzerland|  4452755|  14452|  4437932|         371|             0|\n",
      "|     Sweden|  2753953|  27390|  2726303|         260|             0|\n",
      "|     Norway|  1509732|   6638|  1503094|           0|             0|\n",
      "|      Ghana|   171889|   1462|   170425|           2|             0|\n",
      "+-----------+---------+-------+---------+------------+--------------+\n",
      "\n"
     ]
    }
   ],
   "source": [
    "covidDF.show()"
   ]
  },
  {
   "cell_type": "code",
   "execution_count": 6,
   "metadata": {},
   "outputs": [
    {
     "name": "stdout",
     "output_type": "stream",
     "text": [
      "+-------+-------------------+\n",
      "|Country|         Death Rate|\n",
      "+-------+-------------------+\n",
      "| Mexico|0.04348517534317676|\n",
      "+-------+-------------------+\n",
      "\n"
     ]
    }
   ],
   "source": [
    "# Most affected country among all the countries ( total death/total covid cases).\n",
    "\n",
    "most_affected_country = covidDF.select(\"Country\", (covidDF.Deaths / covidDF.Cases).alias(\"Death Rate\")).orderBy(\"Death Rate\", ascending=False).limit(1)\n",
    "most_affected_country.show()\n",
    "\n"
   ]
  },
  {
   "cell_type": "code",
   "execution_count": 7,
   "metadata": {},
   "outputs": [
    {
     "name": "stdout",
     "output_type": "stream",
     "text": [
      "+--------+--------------------+\n",
      "| Country|          Death Rate|\n",
      "+--------+--------------------+\n",
      "|S. Korea|0.001039399861268...|\n",
      "+--------+--------------------+\n",
      "\n"
     ]
    }
   ],
   "source": [
    "# Least affected country among all the countries ( total death/total covid cases).\n",
    "least_affected_country = covidDF.select(\"Country\", (covidDF.Deaths / covidDF.Cases).alias(\"Death Rate\")).orderBy(\"Death Rate\", descending=False).limit(1)\n",
    "\n",
    "least_affected_country.show()\n"
   ]
  },
  {
   "cell_type": "code",
   "execution_count": 8,
   "metadata": {},
   "outputs": [
    {
     "name": "stdout",
     "output_type": "stream",
     "text": [
      "+-------+------------+\n",
      "|Country|Total Deaths|\n",
      "+-------+------------+\n",
      "|    USA|     1218840|\n",
      "+-------+------------+\n",
      "\n"
     ]
    }
   ],
   "source": [
    "# Country with highest covid cases.\n",
    "highest_covid_cases = covidDF.select(\"Country\", (covidDF.Deaths).alias(\"Total Deaths\")).orderBy(\"Total Deaths\", ascending=False).limit(1)\n",
    "highest_covid_cases.show()\n"
   ]
  },
  {
   "cell_type": "code",
   "execution_count": 9,
   "metadata": {},
   "outputs": [
    {
     "name": "stdout",
     "output_type": "stream",
     "text": [
      "+-------+------------+\n",
      "|Country|Total Deaths|\n",
      "+-------+------------+\n",
      "|  Ghana|        1462|\n",
      "+-------+------------+\n",
      "\n"
     ]
    }
   ],
   "source": [
    "minimum_covid_cases = covidDF.select(\"Country\", (covidDF.Deaths).alias(\"Total Deaths\")).orderBy(\"Total Deaths\", ascending=True).limit(1)\n",
    "minimum_covid_cases.show()"
   ]
  },
  {
   "cell_type": "code",
   "execution_count": 13,
   "metadata": {},
   "outputs": [
    {
     "name": "stdout",
     "output_type": "stream",
     "text": [
      "DataFrame[sum(Cases): bigint]\n"
     ]
    }
   ],
   "source": [
    "# Total cases.\n",
    "total_cases = covidDF.agg({\"Cases\": \"sum\"})\n",
    "print(total_cases)"
   ]
  },
  {
   "cell_type": "code",
   "execution_count": 14,
   "metadata": {},
   "outputs": [
    {
     "name": "stdout",
     "output_type": "stream",
     "text": [
      "+--------+------------------+\n",
      "| Country|     Recovery Rate|\n",
      "+--------+------------------+\n",
      "|S. Korea|0.9989606001387312|\n",
      "+--------+------------------+\n",
      "\n"
     ]
    }
   ],
   "source": [
    "# Country that handled the covid most efficiently( total recovery/ total covid cases).\n",
    "most_efficient_country = covidDF.select(\"Country\", (covidDF.Recovered / covidDF.Cases).alias(\"Recovery Rate\")).orderBy(\"Recovery Rate\", ascending=False).limit(1)\n",
    "most_efficient_country.show()"
   ]
  },
  {
   "cell_type": "code",
   "execution_count": 15,
   "metadata": {},
   "outputs": [
    {
     "name": "stdout",
     "output_type": "stream",
     "text": [
      "+-------+-------------+\n",
      "|Country|Recovery Rate|\n",
      "+-------+-------------+\n",
      "|  India|          0.0|\n",
      "+-------+-------------+\n",
      "\n"
     ]
    }
   ],
   "source": [
    "# Country that handled the covid least efficiently( total recovery/ total covid cases)\n",
    "\n",
    "least_efficient_country = covidDF.select(\"Country\", (covidDF.Recovered / covidDF.Cases).alias(\"Recovery Rate\")).orderBy(\"Recovery Rate\", ascending=True).limit(1)\n",
    "least_efficient_country.show()"
   ]
  },
  {
   "cell_type": "code",
   "execution_count": 16,
   "metadata": {},
   "outputs": [
    {
     "name": "stdout",
     "output_type": "stream",
     "text": [
      "+-------+--------------+\n",
      "|Country|Critical Cases|\n",
      "+-------+--------------+\n",
      "|  India|             0|\n",
      "+-------+--------------+\n",
      "\n"
     ]
    }
   ],
   "source": [
    "# Country least suffering from covid (least critical cases).\n",
    "least_critical_cases = covidDF.select(\"Country\", (covidDF.Critical_Cases).alias(\"Critical Cases\")).orderBy(\"Critical Cases\", ascending=True).limit(1)\n",
    "least_critical_cases.show()\n"
   ]
  },
  {
   "cell_type": "code",
   "execution_count": 18,
   "metadata": {},
   "outputs": [
    {
     "name": "stdout",
     "output_type": "stream",
     "text": [
      "+-------+--------------+\n",
      "|Country|Critical Cases|\n",
      "+-------+--------------+\n",
      "|    USA|          1080|\n",
      "+-------+--------------+\n",
      "\n"
     ]
    }
   ],
   "source": [
    "# Country still suffering from covid (highest critical cases).\n",
    "\n",
    "highest_critical_cases = covidDF.select(\"Country\", (covidDF.Critical_Cases).alias(\"Critical Cases\")).orderBy(\"Critical Cases\", ascending=False).limit(1)\n",
    "highest_critical_cases.show()"
   ]
  }
 ],
 "metadata": {
  "kernelspec": {
   "display_name": "Python 3",
   "language": "python",
   "name": "python3"
  },
  "language_info": {
   "codemirror_mode": {
    "name": "ipython",
    "version": 3
   },
   "file_extension": ".py",
   "mimetype": "text/x-python",
   "name": "python",
   "nbconvert_exporter": "python",
   "pygments_lexer": "ipython3",
   "version": "3.12.2"
  }
 },
 "nbformat": 4,
 "nbformat_minor": 2
}
